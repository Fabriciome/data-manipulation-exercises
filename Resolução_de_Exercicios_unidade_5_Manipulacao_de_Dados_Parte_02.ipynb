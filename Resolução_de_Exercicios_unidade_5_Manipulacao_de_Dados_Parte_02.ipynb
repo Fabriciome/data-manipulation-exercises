{
  "nbformat": 4,
  "nbformat_minor": 0,
  "metadata": {
    "anaconda-cloud": {},
    "colab": {
      "name": "Resolução de Exercicios_unidade_5_Manipulacao_de_Dados_Parte_02.ipynb",
      "provenance": [],
      "include_colab_link": true
    },
    "kernelspec": {
      "display_name": "Python 3",
      "language": "python",
      "name": "python3"
    },
    "language_info": {
      "codemirror_mode": {
        "name": "ipython",
        "version": 3
      },
      "file_extension": ".py",
      "mimetype": "text/x-python",
      "name": "python",
      "nbconvert_exporter": "python",
      "pygments_lexer": "ipython3",
      "version": "3.7.9"
    }
  },
  "cells": [
    {
      "cell_type": "markdown",
      "metadata": {
        "id": "view-in-github",
        "colab_type": "text"
      },
      "source": [
        "<a href=\"https://colab.research.google.com/github/Fabriciome/data-manipulation-exercises/blob/master/Resolu%C3%A7%C3%A3o_de_Exercicios_unidade_5_Manipulacao_de_Dados_Parte_02.ipynb\" target=\"_parent\"><img src=\"https://colab.research.google.com/assets/colab-badge.svg\" alt=\"Open In Colab\"/></a>"
      ]
    },
    {
      "cell_type": "markdown",
      "metadata": {
        "id": "mG98ajLLNIjz"
      },
      "source": [
        "![](https://i.imgur.com/JsMvGnP.png)"
      ]
    },
    {
      "cell_type": "markdown",
      "metadata": {
        "id": "7Ch5KPRpui-Q"
      },
      "source": [
        "\n",
        "## Exercícios de manipulação de dados - Parte 2"
      ]
    },
    {
      "cell_type": "markdown",
      "metadata": {
        "id": "IscqV7Obui-R"
      },
      "source": [
        "Neste Jupyter notebook você irá resolver uma exercícios utilizando a biblioteca Pandas.\\\n",
        "Todos os datasets utilizados nos exercícios estão salvos na pasta *datasets*.\\\n",
        "Todo o seu código deve ser executado neste Jupyter Notebook. Por fim, se desejar, revise as respostas com o seu mentor."
      ]
    },
    {
      "cell_type": "markdown",
      "metadata": {
        "id": "Trmht8Dfui-S"
      },
      "source": [
        "#### Tarefa 1. Importe o dataset e salve os dados em um dataframe\n",
        "\n",
        "Os dados estão salvos no arquivo ***datasets/US_Crime_Rates_1960_2014.csv***.\\\n",
        "Este dataset contém dados de crimes ocorridos nos Estados Unidos no período de 1960 até 2014.\\\n",
        "Salve os dados em uma variável de nome *crime*."
      ]
    },
    {
      "cell_type": "code",
      "metadata": {
        "colab": {
          "base_uri": "https://localhost:8080/",
          "height": 224
        },
        "id": "LN4JDdSjui-T",
        "outputId": "974dd28a-3e0a-404b-df28-e36a8763f4de"
      },
      "source": [
        "import pandas as pd\n",
        "crime = pd.read_csv('/content/US_Crime_Rates_1960_2014.csv')\n",
        "crime.head()"
      ],
      "execution_count": 377,
      "outputs": [
        {
          "output_type": "execute_result",
          "data": {
            "text/html": [
              "<div>\n",
              "<style scoped>\n",
              "    .dataframe tbody tr th:only-of-type {\n",
              "        vertical-align: middle;\n",
              "    }\n",
              "\n",
              "    .dataframe tbody tr th {\n",
              "        vertical-align: top;\n",
              "    }\n",
              "\n",
              "    .dataframe thead th {\n",
              "        text-align: right;\n",
              "    }\n",
              "</style>\n",
              "<table border=\"1\" class=\"dataframe\">\n",
              "  <thead>\n",
              "    <tr style=\"text-align: right;\">\n",
              "      <th></th>\n",
              "      <th>Year</th>\n",
              "      <th>Population</th>\n",
              "      <th>Total</th>\n",
              "      <th>Violent</th>\n",
              "      <th>Property</th>\n",
              "      <th>Murder</th>\n",
              "      <th>Forcible_Rape</th>\n",
              "      <th>Robbery</th>\n",
              "      <th>Aggravated_assault</th>\n",
              "      <th>Burglary</th>\n",
              "      <th>Larceny_Theft</th>\n",
              "      <th>Vehicle_Theft</th>\n",
              "    </tr>\n",
              "  </thead>\n",
              "  <tbody>\n",
              "    <tr>\n",
              "      <th>0</th>\n",
              "      <td>1960</td>\n",
              "      <td>179323175</td>\n",
              "      <td>3384200</td>\n",
              "      <td>288460</td>\n",
              "      <td>3095700</td>\n",
              "      <td>9110</td>\n",
              "      <td>17190</td>\n",
              "      <td>107840</td>\n",
              "      <td>154320</td>\n",
              "      <td>912100</td>\n",
              "      <td>1855400</td>\n",
              "      <td>328200</td>\n",
              "    </tr>\n",
              "    <tr>\n",
              "      <th>1</th>\n",
              "      <td>1961</td>\n",
              "      <td>182992000</td>\n",
              "      <td>3488000</td>\n",
              "      <td>289390</td>\n",
              "      <td>3198600</td>\n",
              "      <td>8740</td>\n",
              "      <td>17220</td>\n",
              "      <td>106670</td>\n",
              "      <td>156760</td>\n",
              "      <td>949600</td>\n",
              "      <td>1913000</td>\n",
              "      <td>336000</td>\n",
              "    </tr>\n",
              "    <tr>\n",
              "      <th>2</th>\n",
              "      <td>1962</td>\n",
              "      <td>185771000</td>\n",
              "      <td>3752200</td>\n",
              "      <td>301510</td>\n",
              "      <td>3450700</td>\n",
              "      <td>8530</td>\n",
              "      <td>17550</td>\n",
              "      <td>110860</td>\n",
              "      <td>164570</td>\n",
              "      <td>994300</td>\n",
              "      <td>2089600</td>\n",
              "      <td>366800</td>\n",
              "    </tr>\n",
              "    <tr>\n",
              "      <th>3</th>\n",
              "      <td>1963</td>\n",
              "      <td>188483000</td>\n",
              "      <td>4109500</td>\n",
              "      <td>316970</td>\n",
              "      <td>3792500</td>\n",
              "      <td>8640</td>\n",
              "      <td>17650</td>\n",
              "      <td>116470</td>\n",
              "      <td>174210</td>\n",
              "      <td>1086400</td>\n",
              "      <td>2297800</td>\n",
              "      <td>408300</td>\n",
              "    </tr>\n",
              "    <tr>\n",
              "      <th>4</th>\n",
              "      <td>1964</td>\n",
              "      <td>191141000</td>\n",
              "      <td>4564600</td>\n",
              "      <td>364220</td>\n",
              "      <td>4200400</td>\n",
              "      <td>9360</td>\n",
              "      <td>21420</td>\n",
              "      <td>130390</td>\n",
              "      <td>203050</td>\n",
              "      <td>1213200</td>\n",
              "      <td>2514400</td>\n",
              "      <td>472800</td>\n",
              "    </tr>\n",
              "  </tbody>\n",
              "</table>\n",
              "</div>"
            ],
            "text/plain": [
              "   Year  Population    Total  ...  Burglary  Larceny_Theft  Vehicle_Theft\n",
              "0  1960   179323175  3384200  ...    912100        1855400         328200\n",
              "1  1961   182992000  3488000  ...    949600        1913000         336000\n",
              "2  1962   185771000  3752200  ...    994300        2089600         366800\n",
              "3  1963   188483000  4109500  ...   1086400        2297800         408300\n",
              "4  1964   191141000  4564600  ...   1213200        2514400         472800\n",
              "\n",
              "[5 rows x 12 columns]"
            ]
          },
          "metadata": {
            "tags": []
          },
          "execution_count": 377
        }
      ]
    },
    {
      "cell_type": "markdown",
      "metadata": {
        "id": "8F6IEdZsui-X"
      },
      "source": [
        "#### Tarefa 2. Qual o tipo de dados em cada coluna?"
      ]
    },
    {
      "cell_type": "code",
      "metadata": {
        "colab": {
          "base_uri": "https://localhost:8080/"
        },
        "id": "guR3et-zui-Y",
        "outputId": "5196e32e-6a93-4985-921d-9be02ee45a7b"
      },
      "source": [
        "crime.dtypes"
      ],
      "execution_count": 378,
      "outputs": [
        {
          "output_type": "execute_result",
          "data": {
            "text/plain": [
              "Year                  int64\n",
              "Population            int64\n",
              "Total                 int64\n",
              "Violent               int64\n",
              "Property              int64\n",
              "Murder                int64\n",
              "Forcible_Rape         int64\n",
              "Robbery               int64\n",
              "Aggravated_assault    int64\n",
              "Burglary              int64\n",
              "Larceny_Theft         int64\n",
              "Vehicle_Theft         int64\n",
              "dtype: object"
            ]
          },
          "metadata": {
            "tags": []
          },
          "execution_count": 378
        }
      ]
    },
    {
      "cell_type": "markdown",
      "metadata": {
        "id": "ZnhPRMhrui-c"
      },
      "source": [
        "#### Tarefa 3. Converta o tipo de dado da coluna Year para o tipo datetime\n",
        "\n",
        "*Dica: procure na documentação da biblioteca como fazer tal conversão*"
      ]
    },
    {
      "cell_type": "code",
      "metadata": {
        "colab": {
          "base_uri": "https://localhost:8080/"
        },
        "id": "HAIM8iB3ui-d",
        "outputId": "39452378-ee4c-4da0-afee-26becbae116b"
      },
      "source": [
        "pd.to_datetime(crime['Year'],format='%Y')"
      ],
      "execution_count": 379,
      "outputs": [
        {
          "output_type": "execute_result",
          "data": {
            "text/plain": [
              "0    1960-01-01\n",
              "1    1961-01-01\n",
              "2    1962-01-01\n",
              "3    1963-01-01\n",
              "4    1964-01-01\n",
              "5    1965-01-01\n",
              "6    1966-01-01\n",
              "7    1967-01-01\n",
              "8    1968-01-01\n",
              "9    1969-01-01\n",
              "10   1970-01-01\n",
              "11   1971-01-01\n",
              "12   1972-01-01\n",
              "13   1973-01-01\n",
              "14   1974-01-01\n",
              "15   1975-01-01\n",
              "16   1976-01-01\n",
              "17   1977-01-01\n",
              "18   1978-01-01\n",
              "19   1979-01-01\n",
              "20   1980-01-01\n",
              "21   1981-01-01\n",
              "22   1982-01-01\n",
              "23   1983-01-01\n",
              "24   1984-01-01\n",
              "25   1985-01-01\n",
              "26   1986-01-01\n",
              "27   1987-01-01\n",
              "28   1988-01-01\n",
              "29   1989-01-01\n",
              "30   1990-01-01\n",
              "31   1991-01-01\n",
              "32   1992-01-01\n",
              "33   1993-01-01\n",
              "34   1994-01-01\n",
              "35   1995-01-01\n",
              "36   1996-01-01\n",
              "37   1997-01-01\n",
              "38   1998-01-01\n",
              "39   1999-01-01\n",
              "40   2000-01-01\n",
              "41   2001-01-01\n",
              "42   2002-01-01\n",
              "43   2003-01-01\n",
              "44   2004-01-01\n",
              "45   2005-01-01\n",
              "46   2006-01-01\n",
              "47   2007-01-01\n",
              "48   2008-01-01\n",
              "49   2009-01-01\n",
              "50   2010-01-01\n",
              "51   2011-01-01\n",
              "52   2012-01-01\n",
              "53   2013-01-01\n",
              "54   2014-01-01\n",
              "Name: Year, dtype: datetime64[ns]"
            ]
          },
          "metadata": {
            "tags": []
          },
          "execution_count": 379
        }
      ]
    },
    {
      "cell_type": "markdown",
      "metadata": {
        "id": "wUMLk49Wui-h"
      },
      "source": [
        "#### Tarefa 4. Configure a coluna Year como index do DataFrame.\n",
        "\n",
        "*Dica: use a função set_index() do Pandas* "
      ]
    },
    {
      "cell_type": "code",
      "metadata": {
        "colab": {
          "base_uri": "https://localhost:8080/",
          "height": 255
        },
        "id": "6n-r6P4jui-i",
        "outputId": "a201ee49-998c-4574-996b-004045390eb8"
      },
      "source": [
        "crime.set_index('Year',inplace=True)\n",
        "crime.head()"
      ],
      "execution_count": 380,
      "outputs": [
        {
          "output_type": "execute_result",
          "data": {
            "text/html": [
              "<div>\n",
              "<style scoped>\n",
              "    .dataframe tbody tr th:only-of-type {\n",
              "        vertical-align: middle;\n",
              "    }\n",
              "\n",
              "    .dataframe tbody tr th {\n",
              "        vertical-align: top;\n",
              "    }\n",
              "\n",
              "    .dataframe thead th {\n",
              "        text-align: right;\n",
              "    }\n",
              "</style>\n",
              "<table border=\"1\" class=\"dataframe\">\n",
              "  <thead>\n",
              "    <tr style=\"text-align: right;\">\n",
              "      <th></th>\n",
              "      <th>Population</th>\n",
              "      <th>Total</th>\n",
              "      <th>Violent</th>\n",
              "      <th>Property</th>\n",
              "      <th>Murder</th>\n",
              "      <th>Forcible_Rape</th>\n",
              "      <th>Robbery</th>\n",
              "      <th>Aggravated_assault</th>\n",
              "      <th>Burglary</th>\n",
              "      <th>Larceny_Theft</th>\n",
              "      <th>Vehicle_Theft</th>\n",
              "    </tr>\n",
              "    <tr>\n",
              "      <th>Year</th>\n",
              "      <th></th>\n",
              "      <th></th>\n",
              "      <th></th>\n",
              "      <th></th>\n",
              "      <th></th>\n",
              "      <th></th>\n",
              "      <th></th>\n",
              "      <th></th>\n",
              "      <th></th>\n",
              "      <th></th>\n",
              "      <th></th>\n",
              "    </tr>\n",
              "  </thead>\n",
              "  <tbody>\n",
              "    <tr>\n",
              "      <th>1960</th>\n",
              "      <td>179323175</td>\n",
              "      <td>3384200</td>\n",
              "      <td>288460</td>\n",
              "      <td>3095700</td>\n",
              "      <td>9110</td>\n",
              "      <td>17190</td>\n",
              "      <td>107840</td>\n",
              "      <td>154320</td>\n",
              "      <td>912100</td>\n",
              "      <td>1855400</td>\n",
              "      <td>328200</td>\n",
              "    </tr>\n",
              "    <tr>\n",
              "      <th>1961</th>\n",
              "      <td>182992000</td>\n",
              "      <td>3488000</td>\n",
              "      <td>289390</td>\n",
              "      <td>3198600</td>\n",
              "      <td>8740</td>\n",
              "      <td>17220</td>\n",
              "      <td>106670</td>\n",
              "      <td>156760</td>\n",
              "      <td>949600</td>\n",
              "      <td>1913000</td>\n",
              "      <td>336000</td>\n",
              "    </tr>\n",
              "    <tr>\n",
              "      <th>1962</th>\n",
              "      <td>185771000</td>\n",
              "      <td>3752200</td>\n",
              "      <td>301510</td>\n",
              "      <td>3450700</td>\n",
              "      <td>8530</td>\n",
              "      <td>17550</td>\n",
              "      <td>110860</td>\n",
              "      <td>164570</td>\n",
              "      <td>994300</td>\n",
              "      <td>2089600</td>\n",
              "      <td>366800</td>\n",
              "    </tr>\n",
              "    <tr>\n",
              "      <th>1963</th>\n",
              "      <td>188483000</td>\n",
              "      <td>4109500</td>\n",
              "      <td>316970</td>\n",
              "      <td>3792500</td>\n",
              "      <td>8640</td>\n",
              "      <td>17650</td>\n",
              "      <td>116470</td>\n",
              "      <td>174210</td>\n",
              "      <td>1086400</td>\n",
              "      <td>2297800</td>\n",
              "      <td>408300</td>\n",
              "    </tr>\n",
              "    <tr>\n",
              "      <th>1964</th>\n",
              "      <td>191141000</td>\n",
              "      <td>4564600</td>\n",
              "      <td>364220</td>\n",
              "      <td>4200400</td>\n",
              "      <td>9360</td>\n",
              "      <td>21420</td>\n",
              "      <td>130390</td>\n",
              "      <td>203050</td>\n",
              "      <td>1213200</td>\n",
              "      <td>2514400</td>\n",
              "      <td>472800</td>\n",
              "    </tr>\n",
              "  </tbody>\n",
              "</table>\n",
              "</div>"
            ],
            "text/plain": [
              "      Population    Total  Violent  ...  Burglary  Larceny_Theft  Vehicle_Theft\n",
              "Year                                ...                                        \n",
              "1960   179323175  3384200   288460  ...    912100        1855400         328200\n",
              "1961   182992000  3488000   289390  ...    949600        1913000         336000\n",
              "1962   185771000  3752200   301510  ...    994300        2089600         366800\n",
              "1963   188483000  4109500   316970  ...   1086400        2297800         408300\n",
              "1964   191141000  4564600   364220  ...   1213200        2514400         472800\n",
              "\n",
              "[5 rows x 11 columns]"
            ]
          },
          "metadata": {
            "tags": []
          },
          "execution_count": 380
        }
      ]
    },
    {
      "cell_type": "markdown",
      "metadata": {
        "id": "J-osqYpUui-l"
      },
      "source": [
        "#### Tarefa 5. Remova a coluna Total do DataFrame."
      ]
    },
    {
      "cell_type": "code",
      "metadata": {
        "colab": {
          "base_uri": "https://localhost:8080/",
          "height": 255
        },
        "id": "td1aqCVrui-m",
        "outputId": "745ab23a-530f-4aa7-92ba-b9cedab49d7a"
      },
      "source": [
        "sem_total = crime.drop(columns='Total')\n",
        "sem_total.head()"
      ],
      "execution_count": 381,
      "outputs": [
        {
          "output_type": "execute_result",
          "data": {
            "text/html": [
              "<div>\n",
              "<style scoped>\n",
              "    .dataframe tbody tr th:only-of-type {\n",
              "        vertical-align: middle;\n",
              "    }\n",
              "\n",
              "    .dataframe tbody tr th {\n",
              "        vertical-align: top;\n",
              "    }\n",
              "\n",
              "    .dataframe thead th {\n",
              "        text-align: right;\n",
              "    }\n",
              "</style>\n",
              "<table border=\"1\" class=\"dataframe\">\n",
              "  <thead>\n",
              "    <tr style=\"text-align: right;\">\n",
              "      <th></th>\n",
              "      <th>Population</th>\n",
              "      <th>Violent</th>\n",
              "      <th>Property</th>\n",
              "      <th>Murder</th>\n",
              "      <th>Forcible_Rape</th>\n",
              "      <th>Robbery</th>\n",
              "      <th>Aggravated_assault</th>\n",
              "      <th>Burglary</th>\n",
              "      <th>Larceny_Theft</th>\n",
              "      <th>Vehicle_Theft</th>\n",
              "    </tr>\n",
              "    <tr>\n",
              "      <th>Year</th>\n",
              "      <th></th>\n",
              "      <th></th>\n",
              "      <th></th>\n",
              "      <th></th>\n",
              "      <th></th>\n",
              "      <th></th>\n",
              "      <th></th>\n",
              "      <th></th>\n",
              "      <th></th>\n",
              "      <th></th>\n",
              "    </tr>\n",
              "  </thead>\n",
              "  <tbody>\n",
              "    <tr>\n",
              "      <th>1960</th>\n",
              "      <td>179323175</td>\n",
              "      <td>288460</td>\n",
              "      <td>3095700</td>\n",
              "      <td>9110</td>\n",
              "      <td>17190</td>\n",
              "      <td>107840</td>\n",
              "      <td>154320</td>\n",
              "      <td>912100</td>\n",
              "      <td>1855400</td>\n",
              "      <td>328200</td>\n",
              "    </tr>\n",
              "    <tr>\n",
              "      <th>1961</th>\n",
              "      <td>182992000</td>\n",
              "      <td>289390</td>\n",
              "      <td>3198600</td>\n",
              "      <td>8740</td>\n",
              "      <td>17220</td>\n",
              "      <td>106670</td>\n",
              "      <td>156760</td>\n",
              "      <td>949600</td>\n",
              "      <td>1913000</td>\n",
              "      <td>336000</td>\n",
              "    </tr>\n",
              "    <tr>\n",
              "      <th>1962</th>\n",
              "      <td>185771000</td>\n",
              "      <td>301510</td>\n",
              "      <td>3450700</td>\n",
              "      <td>8530</td>\n",
              "      <td>17550</td>\n",
              "      <td>110860</td>\n",
              "      <td>164570</td>\n",
              "      <td>994300</td>\n",
              "      <td>2089600</td>\n",
              "      <td>366800</td>\n",
              "    </tr>\n",
              "    <tr>\n",
              "      <th>1963</th>\n",
              "      <td>188483000</td>\n",
              "      <td>316970</td>\n",
              "      <td>3792500</td>\n",
              "      <td>8640</td>\n",
              "      <td>17650</td>\n",
              "      <td>116470</td>\n",
              "      <td>174210</td>\n",
              "      <td>1086400</td>\n",
              "      <td>2297800</td>\n",
              "      <td>408300</td>\n",
              "    </tr>\n",
              "    <tr>\n",
              "      <th>1964</th>\n",
              "      <td>191141000</td>\n",
              "      <td>364220</td>\n",
              "      <td>4200400</td>\n",
              "      <td>9360</td>\n",
              "      <td>21420</td>\n",
              "      <td>130390</td>\n",
              "      <td>203050</td>\n",
              "      <td>1213200</td>\n",
              "      <td>2514400</td>\n",
              "      <td>472800</td>\n",
              "    </tr>\n",
              "  </tbody>\n",
              "</table>\n",
              "</div>"
            ],
            "text/plain": [
              "      Population  Violent  Property  ...  Burglary  Larceny_Theft  Vehicle_Theft\n",
              "Year                                 ...                                        \n",
              "1960   179323175   288460   3095700  ...    912100        1855400         328200\n",
              "1961   182992000   289390   3198600  ...    949600        1913000         336000\n",
              "1962   185771000   301510   3450700  ...    994300        2089600         366800\n",
              "1963   188483000   316970   3792500  ...   1086400        2297800         408300\n",
              "1964   191141000   364220   4200400  ...   1213200        2514400         472800\n",
              "\n",
              "[5 rows x 10 columns]"
            ]
          },
          "metadata": {
            "tags": []
          },
          "execution_count": 381
        }
      ]
    },
    {
      "cell_type": "markdown",
      "metadata": {
        "id": "sNRpI3snDwZ7"
      },
      "source": [
        "#### Tarefa 6. Encontre o número de roubos de carro do ano de 1978."
      ]
    },
    {
      "cell_type": "code",
      "metadata": {
        "colab": {
          "base_uri": "https://localhost:8080/"
        },
        "id": "iCHYwMqLECpl",
        "outputId": "e109b873-b95d-4ad3-f134-5caae355d81c"
      },
      "source": [
        "crime.Vehicle_Theft.loc[1978]"
      ],
      "execution_count": 382,
      "outputs": [
        {
          "output_type": "execute_result",
          "data": {
            "text/plain": [
              "1004100"
            ]
          },
          "metadata": {
            "tags": []
          },
          "execution_count": 382
        }
      ]
    },
    {
      "cell_type": "markdown",
      "metadata": {
        "id": "EAlbLVK2ui-q"
      },
      "source": [
        "#### Tarefa 7. Retorne a linha do ano em que houve o maior número de assasinatos. \n",
        "\n",
        "*Dica: use a coluna Murder como referência.*"
      ]
    },
    {
      "cell_type": "code",
      "metadata": {
        "id": "YqUt0MRqs6xu",
        "colab": {
          "base_uri": "https://localhost:8080/",
          "height": 131
        },
        "outputId": "3fb46b37-70db-461f-b01c-7f08379cf2fe"
      },
      "source": [
        "crime.loc[crime['Murder'] == crime.Murder.max()]"
      ],
      "execution_count": 383,
      "outputs": [
        {
          "output_type": "execute_result",
          "data": {
            "text/html": [
              "<div>\n",
              "<style scoped>\n",
              "    .dataframe tbody tr th:only-of-type {\n",
              "        vertical-align: middle;\n",
              "    }\n",
              "\n",
              "    .dataframe tbody tr th {\n",
              "        vertical-align: top;\n",
              "    }\n",
              "\n",
              "    .dataframe thead th {\n",
              "        text-align: right;\n",
              "    }\n",
              "</style>\n",
              "<table border=\"1\" class=\"dataframe\">\n",
              "  <thead>\n",
              "    <tr style=\"text-align: right;\">\n",
              "      <th></th>\n",
              "      <th>Population</th>\n",
              "      <th>Total</th>\n",
              "      <th>Violent</th>\n",
              "      <th>Property</th>\n",
              "      <th>Murder</th>\n",
              "      <th>Forcible_Rape</th>\n",
              "      <th>Robbery</th>\n",
              "      <th>Aggravated_assault</th>\n",
              "      <th>Burglary</th>\n",
              "      <th>Larceny_Theft</th>\n",
              "      <th>Vehicle_Theft</th>\n",
              "    </tr>\n",
              "    <tr>\n",
              "      <th>Year</th>\n",
              "      <th></th>\n",
              "      <th></th>\n",
              "      <th></th>\n",
              "      <th></th>\n",
              "      <th></th>\n",
              "      <th></th>\n",
              "      <th></th>\n",
              "      <th></th>\n",
              "      <th></th>\n",
              "      <th></th>\n",
              "      <th></th>\n",
              "    </tr>\n",
              "  </thead>\n",
              "  <tbody>\n",
              "    <tr>\n",
              "      <th>1991</th>\n",
              "      <td>252177000</td>\n",
              "      <td>14872900</td>\n",
              "      <td>1911770</td>\n",
              "      <td>12961100</td>\n",
              "      <td>24700</td>\n",
              "      <td>106590</td>\n",
              "      <td>687730</td>\n",
              "      <td>1092740</td>\n",
              "      <td>3157200</td>\n",
              "      <td>8142200</td>\n",
              "      <td>1661700</td>\n",
              "    </tr>\n",
              "  </tbody>\n",
              "</table>\n",
              "</div>"
            ],
            "text/plain": [
              "      Population     Total  Violent  ...  Burglary  Larceny_Theft  Vehicle_Theft\n",
              "Year                                 ...                                        \n",
              "1991   252177000  14872900  1911770  ...   3157200        8142200        1661700\n",
              "\n",
              "[1 rows x 11 columns]"
            ]
          },
          "metadata": {
            "tags": []
          },
          "execution_count": 383
        }
      ]
    },
    {
      "cell_type": "markdown",
      "metadata": {
        "id": "L7bit-TcEGMm"
      },
      "source": [
        "#### Tarefa 8. Retorne o número de assassinatos do ano em que foi registrado o menor número de roubo de carros. \n"
      ]
    },
    {
      "cell_type": "code",
      "metadata": {
        "colab": {
          "base_uri": "https://localhost:8080/"
        },
        "id": "KAz9sW1oEVeK",
        "outputId": "8bfbd439-756a-4566-8731-f3dc8442ea45"
      },
      "source": [
        "min_VT = crime.loc[crime['Vehicle_Theft'] == crime.Vehicle_Theft.min()]\n",
        "min_VT.Murder"
      ],
      "execution_count": 384,
      "outputs": [
        {
          "output_type": "execute_result",
          "data": {
            "text/plain": [
              "Year\n",
              "1960    9110\n",
              "Name: Murder, dtype: int64"
            ]
          },
          "metadata": {
            "tags": []
          },
          "execution_count": 384
        }
      ]
    },
    {
      "cell_type": "markdown",
      "metadata": {
        "id": "E0RnhuuMEWsw"
      },
      "source": [
        "**Parabéns! Você chegou ao fim**"
      ]
    }
  ]
}